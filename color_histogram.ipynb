{
  "nbformat": 4,
  "nbformat_minor": 0,
  "metadata": {
    "colab": {
      "name": "Untitled38.ipynb",
      "provenance": [],
      "include_colab_link": true
    },
    "kernelspec": {
      "name": "python3",
      "display_name": "Python 3"
    }
  },
  "cells": [
    {
      "cell_type": "markdown",
      "metadata": {
        "id": "view-in-github",
        "colab_type": "text"
      },
      "source": [
        "<a href=\"https://colab.research.google.com/github/mohanrajmit/CVML/blob/master/color_histogram.ipynb\" target=\"_parent\"><img src=\"https://colab.research.google.com/assets/colab-badge.svg\" alt=\"Open In Colab\"/></a>"
      ]
    },
    {
      "cell_type": "code",
      "metadata": {
        "id": "C7-HDKV167iJ",
        "outputId": "8bc4febe-cb7d-42e3-c5bf-7e732e7b8a7c",
        "colab": {
          "base_uri": "https://localhost:8080/"
        }
      },
      "source": [
        "!git clone https://github.com/mohanrajmit/CVML.git"
      ],
      "execution_count": 1,
      "outputs": [
        {
          "output_type": "stream",
          "name": "stdout",
          "text": [
            "Cloning into 'CVML'...\n",
            "remote: Enumerating objects: 80, done.\u001b[K\n",
            "remote: Counting objects: 100% (6/6), done.\u001b[K\n",
            "remote: Compressing objects: 100% (6/6), done.\u001b[K\n",
            "remote: Total 80 (delta 1), reused 0 (delta 0), pack-reused 74\u001b[K\n",
            "Receiving objects: 100% (80/80), 4.30 MiB | 22.61 MiB/s, done.\n",
            "Resolving deltas: 100% (9/9), done.\n"
          ]
        }
      ]
    },
    {
      "cell_type": "code",
      "metadata": {
        "id": "7lsyohYiuXcW"
      },
      "source": [],
      "execution_count": null,
      "outputs": []
    },
    {
      "cell_type": "code",
      "metadata": {
        "id": "yRdZ2VUQ7s7j"
      },
      "source": [
        "def describe(image, mask=None):\n",
        "\t\t# convert the image to the L*a*b* color space, compute a histogram,\n",
        "\t\t# and normalize it\n",
        "\t\tlab = cv2.cvtColor(image, cv2.COLOR_BGR2LAB)\n",
        "\t\thist = cv2.calcHist([lab], [0, 1, 2], mask, [8,8,8],\n",
        "\t\t\t[0, 256, 0, 256, 0, 256])\n",
        "\n",
        "\t\t# handle if we are calculating the histogram for OpenCV 2.4\n",
        "\t\tif imutils.is_cv2():\n",
        "\t\t\thist = cv2.normalize(hist).flatten()\n",
        "\n",
        "\t\t# otherwise, we are creating the histogram for OpenCV 3+\n",
        "\t\telse:\n",
        "\t\t\thist = cv2.normalize(hist,hist).flatten()\n",
        "\n",
        "\t\t# return the histogram\n",
        "\t\treturn hist"
      ],
      "execution_count": 4,
      "outputs": []
    },
    {
      "cell_type": "code",
      "metadata": {
        "id": "R1hT5Lea9lbo",
        "outputId": "5ad5194f-c0dd-42fd-9750-935a36dc8fb7",
        "colab": {
          "base_uri": "https://localhost:8080/"
        }
      },
      "source": [
        "from sklearn.cluster import KMeans\n",
        "from imutils import paths\n",
        "import numpy as np\n",
        "import argparse\n",
        "import cv2\n",
        "#import cv2\n",
        "import imutils\n",
        "\n",
        "# initialize the image descriptor along with the image matrix\n",
        "#desc = LabHistogram([8, 8, 8])\n",
        "data = []\n",
        "\n",
        "# grab the image paths from the dataset directory\n",
        "imagePaths = list(paths.list_images(\"/content/CVML/2.color_histograms/color_histograms/dataset\"))\n",
        "imagePaths = np.array(sorted(imagePaths))\n",
        "print(imagePaths)\n"
      ],
      "execution_count": 5,
      "outputs": [
        {
          "output_type": "stream",
          "name": "stdout",
          "text": [
            "['/content/CVML/2.color_histograms/color_histograms/dataset/antelopecanyon_01.png'\n",
            " '/content/CVML/2.color_histograms/color_histograms/dataset/antelopecanyon_02.png'\n",
            " '/content/CVML/2.color_histograms/color_histograms/dataset/antelopecanyon_03.png'\n",
            " '/content/CVML/2.color_histograms/color_histograms/dataset/antelopecanyon_04.png'\n",
            " '/content/CVML/2.color_histograms/color_histograms/dataset/antelopecanyon_05.png'\n",
            " '/content/CVML/2.color_histograms/color_histograms/dataset/grandcanyon_01.png'\n",
            " '/content/CVML/2.color_histograms/color_histograms/dataset/grandcanyon_02.png'\n",
            " '/content/CVML/2.color_histograms/color_histograms/dataset/grandcanyon_03.png'\n",
            " '/content/CVML/2.color_histograms/color_histograms/dataset/grandcanyon_04.png'\n",
            " '/content/CVML/2.color_histograms/color_histograms/dataset/grandcanyon_05.png']\n"
          ]
        }
      ]
    },
    {
      "cell_type": "code",
      "source": [
        "# loop over the input dataset of images\n",
        "for imagePath in imagePaths:\n",
        "\t# load the image, describe the image, then update the list of data\n",
        "\timage = cv2.imread(imagePath)\n",
        "\thist = describe(image)\n",
        "\tdata.append(hist)\n",
        "\n"
      ],
      "metadata": {
        "id": "moap3b4C3gEV"
      },
      "execution_count": 6,
      "outputs": []
    },
    {
      "cell_type": "code",
      "source": [
        "print(np.array(data).shape)"
      ],
      "metadata": {
        "id": "HecQkm6Y3jjr",
        "outputId": "50e4cd20-a983-47c4-f6d3-f1bc7d0be256",
        "colab": {
          "base_uri": "https://localhost:8080/"
        }
      },
      "execution_count": 8,
      "outputs": [
        {
          "output_type": "stream",
          "name": "stdout",
          "text": [
            "(10, 512)\n"
          ]
        }
      ]
    },
    {
      "cell_type": "code",
      "source": [
        "# cluster the color histograms\n",
        "clt = KMeans(n_clusters=2, random_state=42)\n",
        "labels = clt.fit_predict(data)\n",
        "\n"
      ],
      "metadata": {
        "id": "MPn5aXMl3kt2",
        "outputId": "e16ed74f-6d1d-4c16-d66e-d5d07b5479e7",
        "colab": {
          "base_uri": "https://localhost:8080/"
        }
      },
      "execution_count": 9,
      "outputs": [
        {
          "output_type": "stream",
          "name": "stderr",
          "text": [
            "/usr/local/lib/python3.10/dist-packages/sklearn/cluster/_kmeans.py:870: FutureWarning: The default value of `n_init` will change from 10 to 'auto' in 1.4. Set the value of `n_init` explicitly to suppress the warning\n",
            "  warnings.warn(\n"
          ]
        }
      ]
    },
    {
      "cell_type": "code",
      "source": [
        "# loop over the unique labels\n",
        "for label in np.unique(labels):\n",
        "  # grab all image paths that are assigned to the current label\n",
        "  labelPaths = imagePaths[np.where(labels == label)]\n",
        "  counter=0\n",
        "  # loop over the image paths that belong to the current label\n",
        "  for (i, path) in enumerate(labelPaths):\n",
        "    # load the image and display it\n",
        "    image = cv2.imread(path)\n",
        "    #count\n",
        "    image_name =\"cluster\"+str(label)+str(counter) +\".jpg\"\n",
        "    print(image_name)\n",
        "    counter+=1\n",
        "    cv2.imwrite(image_name, image)\n",
        "\n",
        "\t# wait for a keypress and then close all open windows\n",
        "\t#cv2.waitKey(0)\n",
        "\t#cv2.destroyAllWindows()"
      ],
      "metadata": {
        "id": "tx_gASGH37uG",
        "outputId": "87f96a04-c0bd-4a2b-9833-c8e3e6520cf9",
        "colab": {
          "base_uri": "https://localhost:8080/"
        }
      },
      "execution_count": 10,
      "outputs": [
        {
          "output_type": "stream",
          "name": "stdout",
          "text": [
            "cluster00.jpg\n",
            "cluster01.jpg\n",
            "cluster02.jpg\n",
            "cluster03.jpg\n",
            "cluster04.jpg\n",
            "cluster10.jpg\n",
            "cluster11.jpg\n",
            "cluster12.jpg\n",
            "cluster13.jpg\n",
            "cluster14.jpg\n"
          ]
        }
      ]
    },
    {
      "cell_type": "code",
      "source": [],
      "metadata": {
        "id": "LjIHxgaq4JrC"
      },
      "execution_count": null,
      "outputs": []
    }
  ]
}