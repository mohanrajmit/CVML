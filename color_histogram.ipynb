{
  "nbformat": 4,
  "nbformat_minor": 0,
  "metadata": {
    "colab": {
      "name": "Untitled38.ipynb",
      "provenance": [],
      "include_colab_link": true
    },
    "kernelspec": {
      "name": "python3",
      "display_name": "Python 3"
    }
  },
  "cells": [
    {
      "cell_type": "markdown",
      "metadata": {
        "id": "view-in-github",
        "colab_type": "text"
      },
      "source": [
        "<a href=\"https://colab.research.google.com/github/mohanrajmit/CVML/blob/master/color_histogram.ipynb\" target=\"_parent\"><img src=\"https://colab.research.google.com/assets/colab-badge.svg\" alt=\"Open In Colab\"/></a>"
      ]
    },
    {
      "cell_type": "code",
      "metadata": {
        "id": "C7-HDKV167iJ",
        "colab_type": "code",
        "outputId": "918cb5f8-7601-457c-fbea-f41b9d641803",
        "colab": {
          "base_uri": "https://localhost:8080/",
          "height": 121
        }
      },
      "source": [
        "!git clone https://github.com/mohanrajmit/CVML.git"
      ],
      "execution_count": 1,
      "outputs": [
        {
          "output_type": "stream",
          "text": [
            "Cloning into 'CVML'...\n",
            "remote: Enumerating objects: 71, done.\u001b[K\n",
            "remote: Counting objects: 100% (71/71), done.\u001b[K\n",
            "remote: Compressing objects: 100% (66/66), done.\u001b[K\n",
            "remote: Total 71 (delta 6), reused 0 (delta 0), pack-reused 0\u001b[K\n",
            "Unpacking objects: 100% (71/71), done.\n"
          ],
          "name": "stdout"
        }
      ]
    },
    {
      "cell_type": "code",
      "metadata": {
        "id": "R1hT5Lea9lbo",
        "colab_type": "code",
        "colab": {
          "base_uri": "https://localhost:8080/",
          "height": 363
        },
        "outputId": "2a0f9533-ba57-4b4f-9c3c-e356bed2dc42"
      },
      "source": [
        "from sklearn.cluster import KMeans\n",
        "from imutils import paths\n",
        "import numpy as np\n",
        "import argparse\n",
        "import cv2\n",
        "#import cv2\n",
        "import imutils\n",
        "\n",
        "# initialize the image descriptor along with the image matrix\n",
        "#desc = LabHistogram([8, 8, 8])\n",
        "data = []\n",
        "\n",
        "# grab the image paths from the dataset directory\n",
        "imagePaths = list(paths.list_images(\"/content/CVML/2.color_histograms/color_histograms/dataset\"))\n",
        "imagePaths = np.array(sorted(imagePaths))\n",
        "print(imagePaths)\n",
        "# loop over the input dataset of images\n",
        "for imagePath in imagePaths:\n",
        "\t# load the image, describe the image, then update the list of data\n",
        "\timage = cv2.imread(imagePath)\n",
        "\thist = describe(image)\n",
        "\tdata.append(hist)\n",
        "\n",
        "# cluster the color histograms\n",
        "clt = KMeans(n_clusters=2, random_state=42)\n",
        "labels = clt.fit_predict(data)\n",
        "\n",
        "# loop over the unique labels\n",
        "for label in np.unique(labels):\n",
        "  # grab all image paths that are assigned to the current label\n",
        "  labelPaths = imagePaths[np.where(labels == label)]\n",
        "  counter=0\n",
        "  # loop over the image paths that belong to the current label\n",
        "  for (i, path) in enumerate(labelPaths):\n",
        "    # load the image and display it\n",
        "    image = cv2.imread(path)\n",
        "    #count\n",
        "    image_name =\"cluster\"+str(label)+str(counter) +\".jpg\"\n",
        "    print(image_name)\n",
        "    counter+=1\n",
        "    cv2.imwrite(image_name, image)\n",
        "\n",
        "\t# wait for a keypress and then close all open windows\n",
        "\t#cv2.waitKey(0)\n",
        "\t#cv2.destroyAllWindows()"
      ],
      "execution_count": 6,
      "outputs": [
        {
          "output_type": "stream",
          "text": [
            "['/content/CVML/2.color_histograms/color_histograms/dataset/antelopecanyon_01.png'\n",
            " '/content/CVML/2.color_histograms/color_histograms/dataset/antelopecanyon_02.png'\n",
            " '/content/CVML/2.color_histograms/color_histograms/dataset/antelopecanyon_03.png'\n",
            " '/content/CVML/2.color_histograms/color_histograms/dataset/antelopecanyon_04.png'\n",
            " '/content/CVML/2.color_histograms/color_histograms/dataset/antelopecanyon_05.png'\n",
            " '/content/CVML/2.color_histograms/color_histograms/dataset/grandcanyon_01.png'\n",
            " '/content/CVML/2.color_histograms/color_histograms/dataset/grandcanyon_02.png'\n",
            " '/content/CVML/2.color_histograms/color_histograms/dataset/grandcanyon_03.png'\n",
            " '/content/CVML/2.color_histograms/color_histograms/dataset/grandcanyon_04.png'\n",
            " '/content/CVML/2.color_histograms/color_histograms/dataset/grandcanyon_05.png']\n",
            "cluster00.jpg\n",
            "cluster01.jpg\n",
            "cluster02.jpg\n",
            "cluster03.jpg\n",
            "cluster04.jpg\n",
            "cluster10.jpg\n",
            "cluster11.jpg\n",
            "cluster12.jpg\n",
            "cluster13.jpg\n",
            "cluster14.jpg\n"
          ],
          "name": "stdout"
        }
      ]
    },
    {
      "cell_type": "code",
      "metadata": {
        "id": "yRdZ2VUQ7s7j",
        "colab_type": "code",
        "colab": {}
      },
      "source": [
        "def describe(image, mask=None):\n",
        "\t\t# convert the image to the L*a*b* color space, compute a histogram,\n",
        "\t\t# and normalize it\n",
        "\t\tlab = cv2.cvtColor(image, cv2.COLOR_BGR2LAB)\n",
        "\t\thist = cv2.calcHist([lab], [0, 1, 2], mask, [8,8,8],\n",
        "\t\t\t[0, 256, 0, 256, 0, 256])\n",
        "\n",
        "\t\t# handle if we are calculating the histogram for OpenCV 2.4\n",
        "\t\tif imutils.is_cv2():\n",
        "\t\t\thist = cv2.normalize(hist).flatten()\n",
        "\n",
        "\t\t# otherwise, we are creating the histogram for OpenCV 3+\n",
        "\t\telse:\n",
        "\t\t\thist = cv2.normalize(hist,hist).flatten()\n",
        "\n",
        "\t\t# return the histogram\n",
        "\t\treturn hist"
      ],
      "execution_count": 0,
      "outputs": []
    }
  ]
}